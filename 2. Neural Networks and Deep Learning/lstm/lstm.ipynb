{
 "cells": [
  {
   "cell_type": "code",
   "execution_count": 31,
   "metadata": {
    "collapsed": true
   },
   "outputs": [],
   "source": [
    "# Import required libraries\n",
    "import numpy as np\n",
    "import matplotlib.pyplot as plt\n",
    "import pandas as pd\n",
    "from sklearn.preprocessing import MinMaxScaler\n",
    "from keras.models import Sequential\n",
    "from keras.layers import Dense, CuDNNLSTM, Dropout, Bidirectional, Activation\n",
    "from sklearn.model_selection import train_test_split"
   ]
  },
  {
   "cell_type": "code",
   "execution_count": 39,
   "outputs": [],
   "source": [
    "# Initialize variables\n",
    "seq_len = 100\n",
    "dropout = 0.2\n",
    "batch_size = 64\n",
    "epochs = 100\n",
    "prediction_length = 1\n",
    "window_size = seq_len - prediction_length"
   ],
   "metadata": {
    "collapsed": false,
    "pycharm": {
     "name": "#%%\n"
    }
   }
  },
  {
   "cell_type": "code",
   "execution_count": 33,
   "outputs": [],
   "source": [
    "# Import data using pandas\n",
    "df = pd.read_csv('bitcoin_data_2_hr.csv')\n",
    "price_array = df['close'].to_numpy()\n",
    "price_array = price_array.reshape(-1, 1)"
   ],
   "metadata": {
    "collapsed": false,
    "pycharm": {
     "name": "#%%\n"
    }
   }
  },
  {
   "cell_type": "code",
   "execution_count": 41,
   "outputs": [],
   "source": [
    "# Preprocess data using MinMaxScaler\n",
    "scaler = MinMaxScaler(feature_range=(0, 1))\n",
    "price_array = scaler.fit_transform(price_array)\n",
    "\n",
    "# Make sequences of 100 previous values and take the next value as the target\n",
    "d = []\n",
    "for index in range(len(price_array) - seq_len):\n",
    "    d.append(price_array[index: index + seq_len])\n",
    "d = np.array(d)\n",
    "d = d.reshape((d.shape[0], d.shape[1], 1))\n",
    "\n",
    "x_data = d[:, :-prediction_length, :]\n",
    "y_data = d[:, -prediction_length:, :]"
   ],
   "metadata": {
    "collapsed": false,
    "pycharm": {
     "name": "#%%\n"
    }
   }
  },
  {
   "cell_type": "code",
   "execution_count": 42,
   "outputs": [
    {
     "name": "stdout",
     "output_type": "stream",
     "text": [
      "(3759, 188, 1) (418, 188, 1) (3759, 12, 1) (418, 12, 1)\n"
     ]
    }
   ],
   "source": [
    "# Split data into training and test sets\n",
    "X_train, X_test, Y_train, Y_test = train_test_split(x_data, y_data, test_size=0.1, shuffle=False)\n",
    "print(X_train.shape, X_test.shape, Y_train.shape, Y_test.shape)"
   ],
   "metadata": {
    "collapsed": false,
    "pycharm": {
     "name": "#%%\n"
    }
   }
  },
  {
   "cell_type": "code",
   "execution_count": 43,
   "outputs": [
    {
     "name": "stdout",
     "output_type": "stream",
     "text": [
      "Model: \"sequential_3\"\n",
      "_________________________________________________________________\n",
      " Layer (type)                Output Shape              Param #   \n",
      "=================================================================\n",
      " bidirectional_9 (Bidirectio  (None, 188, 376)         287264    \n",
      " nal)                                                            \n",
      "                                                                 \n",
      " dropout_6 (Dropout)         (None, 188, 376)          0         \n",
      "                                                                 \n",
      " bidirectional_10 (Bidirecti  (None, 188, 752)         2268032   \n",
      " onal)                                                           \n",
      "                                                                 \n",
      " dropout_7 (Dropout)         (None, 188, 752)          0         \n",
      "                                                                 \n",
      " bidirectional_11 (Bidirecti  (None, 376)              1416768   \n",
      " onal)                                                           \n",
      "                                                                 \n",
      " dense_3 (Dense)             (None, 1)                 377       \n",
      "                                                                 \n",
      " activation_3 (Activation)   (None, 1)                 0         \n",
      "                                                                 \n",
      "=================================================================\n",
      "Total params: 3,972,441\n",
      "Trainable params: 3,972,441\n",
      "Non-trainable params: 0\n",
      "_________________________________________________________________\n",
      "None\n"
     ]
    }
   ],
   "source": [
    "# Create and fit the LSTM network\n",
    "model = Sequential()\n",
    "model.add(\n",
    "    Bidirectional(CuDNNLSTM(units=window_size, return_sequences=True), input_shape=(window_size, X_train.shape[-1])))\n",
    "model.add(Dropout(dropout))\n",
    "\n",
    "model.add(Bidirectional(CuDNNLSTM(units=window_size * 2, return_sequences=True)))\n",
    "model.add(Dropout(dropout))\n",
    "\n",
    "model.add(Bidirectional(CuDNNLSTM(units=window_size, return_sequences=False)))\n",
    "model.add(Dense(units=1))\n",
    "model.add(Activation('linear'))\n",
    "\n",
    "print(model.summary())\n",
    "\n",
    "model.compile(loss='mean_squared_error', optimizer='adam')"
   ],
   "metadata": {
    "collapsed": false,
    "pycharm": {
     "name": "#%%\n"
    }
   }
  },
  {
   "cell_type": "code",
   "execution_count": null,
   "outputs": [],
   "source": [
    "# Train the model\n",
    "history = model.fit(X_train, Y_train, epochs=epochs, batch_size=batch_size, validation_split=0.1, verbose=2,\n",
    "                    shuffle=False)"
   ],
   "metadata": {
    "collapsed": false,
    "pycharm": {
     "name": "#%%\n",
     "is_executing": true
    }
   }
  },
  {
   "cell_type": "code",
   "execution_count": 15,
   "outputs": [],
   "source": [
    "# Make predictions\n",
    "y_hat = model.predict(X_test)"
   ],
   "metadata": {
    "collapsed": false,
    "pycharm": {
     "name": "#%%\n"
    }
   }
  },
  {
   "cell_type": "code",
   "execution_count": 16,
   "outputs": [
    {
     "data": {
      "text/plain": "<Figure size 432x288 with 1 Axes>",
      "image/png": "[encoded data removed]"
     },
     "metadata": {
      "needs_background": "light"
     },
     "output_type": "display_data"
    }
   ],
   "source": [
    "# Plot the predictions\n",
    "plt.plot(Y_test, label='Actual', color='blue')\n",
    "plt.plot(0.95 * y_hat, label='Predicted', color='red', marker='o')\n",
    "plt.plot(y_hat, label='Predicted', color='red')\n",
    "plt.plot(1.05 * y_hat, label='Predicted', color='red', marker='x')\n",
    "plt.show()"
   ],
   "metadata": {
    "collapsed": false,
    "pycharm": {
     "name": "#%%\n"
    }
   }
  },
  {
   "cell_type": "code",
   "execution_count": 20,
   "outputs": [],
   "source": [
    "model.save('bitcoin_model.h5')"
   ],
   "metadata": {
    "collapsed": false,
    "pycharm": {
     "name": "#%%\n"
    }
   }
  },
  {
   "cell_type": "code",
   "execution_count": 23,
   "outputs": [],
   "source": [
    "from pickle import dump\n",
    "dump(scaler, open('bitcoin_scaler.pkl', 'wb'))"
   ],
   "metadata": {
    "collapsed": false,
    "pycharm": {
     "name": "#%%\n"
    }
   }
  },
  {
   "cell_type": "code",
   "execution_count": null,
   "outputs": [],
   "source": [],
   "metadata": {
    "collapsed": false,
    "pycharm": {
     "name": "#%%\n"
    }
   }
  }
 ],
 "metadata": {
  "kernelspec": {
   "display_name": "Python 3",
   "language": "python",
   "name": "python3"
  },
  "language_info": {
   "codemirror_mode": {
    "name": "ipython",
    "version": 2
   },
   "file_extension": ".py",
   "mimetype": "text/x-python",
   "name": "python",
   "nbconvert_exporter": "python",
   "pygments_lexer": "ipython2",
   "version": "2.7.6"
  }
 },
 "nbformat": 4,
 "nbformat_minor": 0
}