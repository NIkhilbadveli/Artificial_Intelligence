# Maybe try generating fake faces or fake art.
