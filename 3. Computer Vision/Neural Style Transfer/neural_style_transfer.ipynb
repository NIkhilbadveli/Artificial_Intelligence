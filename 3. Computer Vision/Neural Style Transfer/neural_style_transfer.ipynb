{
 "cells": [
  {
   "cell_type": "markdown",
   "metadata": {
    "collapsed": true,
    "pycharm": {
     "name": "#%% md\n"
    }
   },
   "source": [
    "### A neural style transfer is a technique that takes a content image and a style image and creates a new image that is the combination of the both.\n",
    "\n",
    "For example:- Think of an image of a house and a painting of a landscape. The content image is the house and the style image is the landscape. The model picks up the style from the painting and applies it to the image of the house.\n",
    "\n",
    "It looks like Prisma app used this tech. Watch Andrew NG's video on this topic to know more.\n",
    "[https://www.youtube.com/watch?v=R39tWYYKNcI&ab_channel=DeepLearningAI](https://www.youtube.com/watch?v=R39tWYYKNcI&ab_channel=DeepLearningAI)\n",
    "\n",
    "We will use tensorflow hub to download the \"Arbitrary Image Stylization\" model. This is a fast neural transfer model as opposed to the original paper. You can read more about it here. [https://arxiv.org/abs/1705.06830](https://arxiv.org/abs/1705.06830)"
   ]
  },
  {
   "cell_type": "code",
   "execution_count": 1,
   "outputs": [],
   "source": [
    "from matplotlib import gridspec\n",
    "import matplotlib.pylab as plt\n",
    "import numpy as np\n",
    "import tensorflow as tf\n",
    "import tensorflow_hub as tf_hub\n",
    "import PIL\n",
    "from keras.preprocessing.image import array_to_img"
   ],
   "metadata": {
    "collapsed": false,
    "pycharm": {
     "name": "#%%\n"
    }
   }
  },
  {
   "cell_type": "code",
   "execution_count": null,
   "outputs": [],
   "source": [
    "# Load content and style images (see example in the attached colab).\n",
    "content_image = plt.imread('kim_tae_ri.jpg')\n",
    "style_image = plt.imread('style_image.jpg')"
   ],
   "metadata": {
    "collapsed": false,
    "pycharm": {
     "name": "#%%\n",
     "is_executing": true
    }
   }
  },
  {
   "cell_type": "code",
   "execution_count": null,
   "outputs": [],
   "source": [
    "# Convert to float32 numpy array, add batch dimension, and normalize to range [0, 1]. Example using numpy:\n",
    "content_image = content_image.astype(np.float32)[np.newaxis, ...] / 255.\n",
    "style_image = style_image.astype(np.float32)[np.newaxis, ...] / 255."
   ],
   "metadata": {
    "collapsed": false,
    "pycharm": {
     "name": "#%%\n"
    }
   }
  },
  {
   "cell_type": "code",
   "execution_count": null,
   "outputs": [],
   "source": [
    "# Optionally resize the images. It is recommended that the style image is about\n",
    "# 256 pixels (this size was used when training the style transfer network).\n",
    "# The content image can be any size.\n",
    "style_image = tf.image.resize(style_image, (256, 256))"
   ],
   "metadata": {
    "collapsed": false,
    "pycharm": {
     "name": "#%%\n"
    }
   }
  },
  {
   "cell_type": "code",
   "execution_count": null,
   "outputs": [],
   "source": [
    "# Load image stylization module.\n",
    "hub_module = tf_hub.load('https://tfhub.dev/google/magenta/arbitrary-image-stylization-v1-256/2')"
   ],
   "metadata": {
    "collapsed": false,
    "pycharm": {
     "name": "#%%\n"
    }
   }
  },
  {
   "cell_type": "code",
   "execution_count": null,
   "outputs": [],
   "source": [
    "# Stylize image.\n",
    "outputs = hub_module(tf.constant(content_image), tf.constant(style_image))\n",
    "stylized_image = outputs[0]"
   ],
   "metadata": {
    "collapsed": false,
    "pycharm": {
     "name": "#%%\n"
    }
   }
  },
  {
   "cell_type": "code",
   "execution_count": null,
   "outputs": [],
   "source": [
    "# Plot the generated image\n",
    "plt.rcParams[\"figure.figsize\"] = (20,20)\n",
    "plt.imshow(stylized_image.numpy()[0])\n",
    "plt.show()"
   ],
   "metadata": {
    "collapsed": false,
    "pycharm": {
     "name": "#%%\n"
    }
   }
  },
  {
   "cell_type": "code",
   "execution_count": null,
   "outputs": [],
   "source": [
    "# Save the stylized image.\n",
    "array_to_img(stylized_image.numpy() * 255).save('stylized_image.jpg')"
   ],
   "metadata": {
    "collapsed": false,
    "pycharm": {
     "name": "#%%\n"
    }
   }
  }
 ],
 "metadata": {
  "kernelspec": {
   "display_name": "Python 3",
   "language": "python",
   "name": "python3"
  },
  "language_info": {
   "codemirror_mode": {
    "name": "ipython",
    "version": 2
   },
   "file_extension": ".py",
   "mimetype": "text/x-python",
   "name": "python",
   "nbconvert_exporter": "python",
   "pygments_lexer": "ipython2",
   "version": "2.7.6"
  }
 },
 "nbformat": 4,
 "nbformat_minor": 0
}