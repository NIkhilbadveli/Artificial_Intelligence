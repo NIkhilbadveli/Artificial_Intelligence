{
 "cells": [
  {
   "cell_type": "markdown",
   "source": [
    "We will perform basic sentiment analysis on Avengers Endgame tweets dataset. And based on all the sentiments, we will\n",
    "try to determine if the movie is worthy enough to watch."
   ],
   "metadata": {
    "collapsed": false,
    "pycharm": {
     "name": "#%% md\n"
    }
   }
  },
  {
   "cell_type": "code",
   "execution_count": 12,
   "outputs": [],
   "source": [
    "# Importing the libraries\n",
    "import matplotlib.pyplot as plt\n",
    "import pandas as pd\n",
    "import flair\n",
    "import re"
   ],
   "metadata": {
    "collapsed": false,
    "pycharm": {
     "name": "#%%\n"
    }
   }
  },
  {
   "cell_type": "code",
   "execution_count": 6,
   "outputs": [],
   "source": [
    "# Cleaning the tweets\n",
    "def clean(tweet):\n",
    "    \"\"\"\n",
    "    Clean tweets using RegEx\n",
    "    \"\"\"\n",
    "    whitespace = re.compile(r\"\\s+\")\n",
    "    web_address = re.compile(r\"(?i)http(s):\\/\\/[a-z0-9.~_\\-\\/]+\")\n",
    "    user = re.compile(r\"(?i)@[a-z0-9_]+\")\n",
    "\n",
    "    # we then use the sub method to replace anything matching\n",
    "    tweet = whitespace.sub(' ', tweet)\n",
    "    tweet = web_address.sub('', tweet)\n",
    "    tweet = user.sub('', tweet)\n",
    "    return tweet"
   ],
   "metadata": {
    "collapsed": false,
    "pycharm": {
     "name": "#%%\n"
    }
   }
  },
  {
   "cell_type": "code",
   "execution_count": 8,
   "outputs": [
    {
     "name": "stdout",
     "output_type": "stream",
     "text": [
      "2022-04-08 15:15:46,290 loading file C:\\Users\\nikhi\\.flair\\models\\sentiment-en-mix-distillbert_4.pt\n"
     ]
    }
   ],
   "source": [
    "# Read the dataset\n",
    "df = pd.read_csv('tweets.csv', encoding='ANSI')\n",
    "# df = df['text']\n",
    "# Apply regex to clean the tweets\n",
    "df['text'] = df['text'].apply(clean)\n",
    "\n",
    "# Use the flair library to perform sentiment analysis\n",
    "sentiment_model = flair.models.TextClassifier.load('en-sentiment')"
   ],
   "metadata": {
    "collapsed": false,
    "pycharm": {
     "name": "#%%\n"
    }
   }
  },
  {
   "cell_type": "code",
   "execution_count": 9,
   "outputs": [
    {
     "data": {
      "text/plain": "(15000,)"
     },
     "execution_count": 9,
     "metadata": {},
     "output_type": "execute_result"
    }
   ],
   "source": [
    "df['text'].to_numpy().shape"
   ],
   "metadata": {
    "collapsed": false,
    "pycharm": {
     "name": "#%%\n"
    }
   }
  },
  {
   "cell_type": "code",
   "execution_count": 10,
   "outputs": [],
   "source": [
    "probs = []\n",
    "sentiments = []\n",
    "for twt in df['text'].tolist():\n",
    "    sentence = flair.data.Sentence(twt)\n",
    "    # Predict the sentiment of the tweet\n",
    "    sentiment_model.predict(sentence)\n",
    "    # Get the probability of the tweet\n",
    "    prob = sentence.labels[0].score\n",
    "    # Get the sentiment of the tweet\n",
    "    sentiment = sentence.labels[0].value\n",
    "    # Append the probability and sentiment to the list\n",
    "    probs.append(prob)\n",
    "    sentiments.append(sentiment)\n",
    "\n",
    "df['prob'] = probs\n",
    "df['sentiment'] = sentiments"
   ],
   "metadata": {
    "collapsed": false,
    "pycharm": {
     "name": "#%%\n"
    }
   }
  },
  {
   "cell_type": "code",
   "execution_count": 11,
   "outputs": [
    {
     "data": {
      "text/plain": "                                                text      prob sentiment\n0       RT : literally nobody: me: #AvengersEndgame   0.999480  NEGATIVE\n1  RT : i’m emotional, sorry!! 2014 x 2019 #black...  0.997497  NEGATIVE\n2  saving these bingo cards for tomorrow © #Aveng...  0.994066  POSITIVE\n3  RT : Man these #AvengersEndgame ads are everyw...  0.997474  NEGATIVE\n4  RT : We salute you, ! #CaptainAmerica #Avenger...  0.992422  POSITIVE",
      "text/html": "<div>\n<style scoped>\n    .dataframe tbody tr th:only-of-type {\n        vertical-align: middle;\n    }\n\n    .dataframe tbody tr th {\n        vertical-align: top;\n    }\n\n    .dataframe thead th {\n        text-align: right;\n    }\n</style>\n<table border=\"1\" class=\"dataframe\">\n  <thead>\n    <tr style=\"text-align: right;\">\n      <th></th>\n      <th>text</th>\n      <th>prob</th>\n      <th>sentiment</th>\n    </tr>\n  </thead>\n  <tbody>\n    <tr>\n      <th>0</th>\n      <td>RT : literally nobody: me: #AvengersEndgame</td>\n      <td>0.999480</td>\n      <td>NEGATIVE</td>\n    </tr>\n    <tr>\n      <th>1</th>\n      <td>RT : i’m emotional, sorry!! 2014 x 2019 #black...</td>\n      <td>0.997497</td>\n      <td>NEGATIVE</td>\n    </tr>\n    <tr>\n      <th>2</th>\n      <td>saving these bingo cards for tomorrow © #Aveng...</td>\n      <td>0.994066</td>\n      <td>POSITIVE</td>\n    </tr>\n    <tr>\n      <th>3</th>\n      <td>RT : Man these #AvengersEndgame ads are everyw...</td>\n      <td>0.997474</td>\n      <td>NEGATIVE</td>\n    </tr>\n    <tr>\n      <th>4</th>\n      <td>RT : We salute you, ! #CaptainAmerica #Avenger...</td>\n      <td>0.992422</td>\n      <td>POSITIVE</td>\n    </tr>\n  </tbody>\n</table>\n</div>"
     },
     "execution_count": 11,
     "metadata": {},
     "output_type": "execute_result"
    }
   ],
   "source": [
    "# Print the first 5 rows of the dataframe\n",
    "df[['text', 'prob', 'sentiment']].head()"
   ],
   "metadata": {
    "collapsed": false,
    "pycharm": {
     "name": "#%%\n"
    }
   }
  },
  {
   "cell_type": "code",
   "execution_count": 13,
   "outputs": [
    {
     "data": {
      "text/plain": "<AxesSubplot:>"
     },
     "execution_count": 13,
     "metadata": {},
     "output_type": "execute_result"
    },
    {
     "data": {
      "text/plain": "<Figure size 432x288 with 1 Axes>",
      "image/png": "[encoded data removed]"
     },
     "metadata": {
      "needs_background": "light"
     },
     "output_type": "display_data"
    }
   ],
   "source": [
    "# Plot the histogram of the sentiments\n",
    "df['sentiment'].value_counts().plot(kind='bar')"
   ],
   "metadata": {
    "collapsed": false,
    "pycharm": {
     "name": "#%%\n"
    }
   }
  },
  {
   "cell_type": "code",
   "execution_count": 18,
   "outputs": [
    {
     "name": "stdout",
     "output_type": "stream",
     "text": [
      "The movie is worth watching!\n"
     ]
    }
   ],
   "source": [
    "# Now let's take a weighted average of the probabilities\n",
    "pos_df = df[df['sentiment'] == 'POSITIVE']\n",
    "neg_df = df[df['sentiment'] == 'NEGATIVE']\n",
    "positive_avg = pos_df['prob'].mean()\n",
    "negative_avg = neg_df['prob'].mean()\n",
    "weighted_avg = (pos_df.size * positive_avg - neg_df.size * negative_avg) / df.size\n",
    "if weighted_avg > 0:\n",
    "    print('The movie is worth watching!')\n",
    "else:\n",
    "    print('The movie is not worth watching!')"
   ],
   "metadata": {
    "collapsed": false,
    "pycharm": {
     "name": "#%%\n"
    }
   }
  },
  {
   "cell_type": "code",
   "execution_count": 19,
   "outputs": [
    {
     "data": {
      "text/plain": "<AxesSubplot:>"
     },
     "execution_count": 19,
     "metadata": {},
     "output_type": "execute_result"
    },
    {
     "data": {
      "text/plain": "<Figure size 432x288 with 1 Axes>",
      "image/png": "[encoded data removed]"
     },
     "metadata": {
      "needs_background": "light"
     },
     "output_type": "display_data"
    }
   ],
   "source": [
    "# Let's plot the distribution of the probabilities\n",
    "df['prob'].hist(bins=20)"
   ],
   "metadata": {
    "collapsed": false,
    "pycharm": {
     "name": "#%%\n"
    }
   }
  }
 ],
 "metadata": {
  "kernelspec": {
   "display_name": "Python 3",
   "language": "python",
   "name": "python3"
  },
  "language_info": {
   "codemirror_mode": {
    "name": "ipython",
    "version": 2
   },
   "file_extension": ".py",
   "mimetype": "text/x-python",
   "name": "python",
   "nbconvert_exporter": "python",
   "pygments_lexer": "ipython2",
   "version": "2.7.6"
  }
 },
 "nbformat": 4,
 "nbformat_minor": 0
}